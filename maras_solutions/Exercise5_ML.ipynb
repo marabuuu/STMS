{
 "cells": [
  {
   "cell_type": "markdown",
   "metadata": {},
   "source": [
    "# Exercise 5\n",
    "\n",
    "- write code in modular, re-usable way\n",
    "\n",
    "## Question 1: Cell and Verlet Lists\n",
    "\n",
    "- key prerequisite to evaluate Particle-Particle interactions is fast access to neighboring particles \n",
    "\n",
    "### 1.a) Implement first a routine that creates cell lists from a set of particles in 1D/2D without symmetry.\n",
    "\n",
    "For the analysis, each particle needs:\n",
    "- position (1D, 2D, 3D)\n",
    "- weights (how much baggage is it carrying)\n",
    "- sometimes volume"
   ]
  },
  {
   "cell_type": "code",
   "execution_count": 2,
   "metadata": {},
   "outputs": [],
   "source": [
    "import numpy as np\n",
    "import matplotlib.pyplot as plt"
   ]
  },
  {
   "cell_type": "code",
   "execution_count": 3,
   "metadata": {},
   "outputs": [],
   "source": [
    "# Generate 10000 particles in a grig from 0 to 1 in 2D grid of 0.05 length\n",
    "n_particles = 10000\n",
    "dims = 2\n",
    "particle_pos = np.random.rand(n_particles, dims)\n",
    "lower_bounds = np.array([0.0, 0.0])\n",
    "upper_bounds = np.array([1.0, 1.0])\n",
    "cell_side = 0.05 # 20 cells in each dimension  "
   ]
  },
  {
   "cell_type": "markdown",
   "metadata": {},
   "source": [
    "__Cell List__: \n",
    "- each cell maintains list of its occupants\n",
    "- construction of these lists for N particles is O(N)\n"
   ]
  },
  {
   "cell_type": "code",
   "execution_count": null,
   "metadata": {},
   "outputs": [],
   "source": [
    "def create_cell_list(particle_pos, lower_bounds, upper_bounds, cell_size):\n",
    "\n",
    "    # set up grid\n",
    "    n_particles, dims = particle_pos.shape # columns, rows\n",
    "    num_cells = np.ceil((upper_bounds - lower_bounds) / cell_size).astype(int) # number of cells in each dimension\n",
    "\n",
    "    # create particle matrix\n",
    "    particle_matrix = np.zeros((n_particles, dims + 1), dtype=int)\n",
    "    particle_matrix[:, :dims] = particle_pos # first 2 columns are the particle positions in 2D\n",
    "    cell_list = [[] for _ in range(np.prod(num_cells))] # create a list of empty lists\n",
    "\n",
    "    # assign particles to cells\n",
    "    for i in range(n_particles):\n",
    "\n",
    "        # find the cell index for each particle\n",
    "        # floor needs to be used because the cell index is 0-based\n",
    "        cell_index = np.floor((particle_pos[i] - lower_bounds) / cell_side).astype(int)\n",
    "\n",
    "        # convert the cell index to a single index\n",
    "        cell_list_index = np.ravel_multi_index(cell_index, dims=num_cells)\n",
    "\n",
    "        # add the particle to the cell list\n",
    "        particle_matrix[i, dims] = len(cell_list[cell_list_index])\n",
    "        cell_list[cell_list_index].append(i)\n",
    "\n",
    "        # store cell assignment in final column of particle matrix\n",
    "        particle_matrix[i, dims] = cell_list_index\n",
    "    return particle_matrix, cell_list, num_cells #particle matrix contains x, y, cell\n"
   ]
  }
 ],
 "metadata": {
  "kernelspec": {
   "display_name": "allrounder_env",
   "language": "python",
   "name": "python3"
  },
  "language_info": {
   "codemirror_mode": {
    "name": "ipython",
    "version": 3
   },
   "file_extension": ".py",
   "mimetype": "text/x-python",
   "name": "python",
   "nbconvert_exporter": "python",
   "pygments_lexer": "ipython3",
   "version": "3.12.0"
  }
 },
 "nbformat": 4,
 "nbformat_minor": 2
}
